{
 "cells": [
  {
   "cell_type": "markdown",
   "id": "4c8f5e4f-e099-4c36-a15f-e01522ed5a91",
   "metadata": {},
   "source": [
    "# Runbook for converting [Maxim models](https://github.com/google-research/maxim) into Tensorflow.js-compatible models.\n",
    "\n",
    "This Notebook demonstrates how to convert Maxim models into Tensorflow.js equivalents. It aims to produce smaller models that are capable of being run in the browser.\n",
    "\n",
    "[This Notebook uses the Tensorflow port of the models](https://github.com/sayakpaul/maxim-tf)."
   ]
  },
  {
   "cell_type": "markdown",
   "id": "ba4e47bf-7de3-454e-8450-24f400f184fb",
   "metadata": {},
   "source": [
    "Start by installing dependencies, and cloning the relevant repository."
   ]
  },
  {
   "cell_type": "code",
   "execution_count": 1,
   "id": "1c5e74f4-4c9e-4143-8199-902f3802ec2f",
   "metadata": {
    "scrolled": true,
    "tags": []
   },
   "outputs": [
    {
     "name": "stdout",
     "output_type": "stream",
     "text": [
      "\u001b[33mWARNING: Skipping tensorflowjs as it is not installed.\u001b[0m\u001b[33m\n",
      "\u001b[0m\u001b[33mWARNING: Running pip as the 'root' user can result in broken permissions and conflicting behaviour with the system package manager. It is recommended to use a virtual environment instead: https://pip.pypa.io/warnings/venv\u001b[0m\u001b[33m\n",
      "\u001b[0mLooking in indexes: https://pypi.org/simple, https://pypi.ngc.nvidia.com\n",
      "Requirement already satisfied: scikit-image in /usr/local/lib/python3.10/dist-packages (0.20.0)\n",
      "Requirement already satisfied: numpy in /usr/local/lib/python3.10/dist-packages (1.23.5)\n",
      "Requirement already satisfied: tensorflow in /usr/local/lib/python3.10/dist-packages (2.11.1)\n",
      "Requirement already satisfied: tensorflow_hub in /usr/local/lib/python3.10/dist-packages (0.12.0)\n",
      "Requirement already satisfied: matplotlib in /usr/local/lib/python3.10/dist-packages (3.7.1)\n",
      "Requirement already satisfied: jax in /usr/local/lib/python3.10/dist-packages (0.4.10)\n",
      "Requirement already satisfied: flax in /usr/local/lib/python3.10/dist-packages (0.6.2)\n",
      "Requirement already satisfied: Pillow in /usr/local/lib/python3.10/dist-packages (9.5.0)\n",
      "Collecting tensorflowjs\n",
      "  Downloading tensorflowjs-4.6.0-py3-none-any.whl (85 kB)\n",
      "\u001b[2K     \u001b[90m━━━━━━━━━━━━━━━━━━━━━━━━━━━━━━━━━━━━━━━━\u001b[0m \u001b[32m85.1/85.1 kB\u001b[0m \u001b[31m3.9 MB/s\u001b[0m eta \u001b[36m0:00:00\u001b[0m\n",
      "\u001b[?25hRequirement already satisfied: scipy>=1.8 in /usr/local/lib/python3.10/dist-packages (from scikit-image) (1.10.1)\n",
      "Requirement already satisfied: networkx>=2.8 in /usr/local/lib/python3.10/dist-packages (from scikit-image) (3.1)\n",
      "Requirement already satisfied: imageio>=2.4.1 in /usr/local/lib/python3.10/dist-packages (from scikit-image) (2.28.1)\n",
      "Requirement already satisfied: tifffile>=2019.7.26 in /usr/local/lib/python3.10/dist-packages (from scikit-image) (2023.4.12)\n",
      "Requirement already satisfied: PyWavelets>=1.1.1 in /usr/local/lib/python3.10/dist-packages (from scikit-image) (1.4.1)\n",
      "Requirement already satisfied: packaging>=20.0 in /usr/local/lib/python3.10/dist-packages (from scikit-image) (20.9)\n",
      "Requirement already satisfied: lazy_loader>=0.1 in /usr/local/lib/python3.10/dist-packages (from scikit-image) (0.2)\n",
      "Requirement already satisfied: absl-py>=1.0.0 in /usr/local/lib/python3.10/dist-packages (from tensorflow) (1.4.0)\n",
      "Requirement already satisfied: astunparse>=1.6.0 in /usr/local/lib/python3.10/dist-packages (from tensorflow) (1.6.3)\n",
      "Requirement already satisfied: flatbuffers>=2.0 in /usr/local/lib/python3.10/dist-packages (from tensorflow) (23.5.9)\n",
      "Requirement already satisfied: gast<=0.4.0,>=0.2.1 in /usr/local/lib/python3.10/dist-packages (from tensorflow) (0.4.0)\n",
      "Requirement already satisfied: google-pasta>=0.1.1 in /usr/local/lib/python3.10/dist-packages (from tensorflow) (0.2.0)\n",
      "Requirement already satisfied: grpcio<2.0,>=1.24.3 in /usr/local/lib/python3.10/dist-packages (from tensorflow) (1.54.2)\n",
      "Requirement already satisfied: h5py>=2.9.0 in /usr/local/lib/python3.10/dist-packages (from tensorflow) (3.8.0)\n",
      "Requirement already satisfied: keras<2.12,>=2.11.0 in /usr/local/lib/python3.10/dist-packages (from tensorflow) (2.11.0)\n",
      "Requirement already satisfied: libclang>=13.0.0 in /usr/local/lib/python3.10/dist-packages (from tensorflow) (16.0.0)\n",
      "Requirement already satisfied: opt-einsum>=2.3.2 in /usr/local/lib/python3.10/dist-packages (from tensorflow) (3.3.0)\n",
      "Requirement already satisfied: protobuf<3.20,>=3.9.2 in /usr/local/lib/python3.10/dist-packages (from tensorflow) (3.19.6)\n",
      "Requirement already satisfied: setuptools in /usr/local/lib/python3.10/dist-packages (from tensorflow) (67.7.2)\n",
      "Requirement already satisfied: six>=1.12.0 in /usr/lib/python3/dist-packages (from tensorflow) (1.16.0)\n",
      "Requirement already satisfied: tensorboard<2.12,>=2.11 in /usr/local/lib/python3.10/dist-packages (from tensorflow) (2.11.2)\n",
      "Requirement already satisfied: tensorflow-estimator<2.12,>=2.11.0 in /usr/local/lib/python3.10/dist-packages (from tensorflow) (2.11.0)\n",
      "Requirement already satisfied: termcolor>=1.1.0 in /usr/local/lib/python3.10/dist-packages (from tensorflow) (2.3.0)\n",
      "Requirement already satisfied: typing-extensions>=3.6.6 in /usr/local/lib/python3.10/dist-packages (from tensorflow) (4.5.0)\n",
      "Requirement already satisfied: wrapt>=1.11.0 in /usr/local/lib/python3.10/dist-packages (from tensorflow) (1.14.1)\n",
      "Requirement already satisfied: tensorflow-io-gcs-filesystem>=0.23.1 in /usr/local/lib/python3.10/dist-packages (from tensorflow) (0.32.0)\n",
      "Requirement already satisfied: contourpy>=1.0.1 in /usr/local/lib/python3.10/dist-packages (from matplotlib) (1.0.7)\n",
      "Requirement already satisfied: cycler>=0.10 in /usr/local/lib/python3.10/dist-packages (from matplotlib) (0.11.0)\n",
      "Requirement already satisfied: fonttools>=4.22.0 in /usr/local/lib/python3.10/dist-packages (from matplotlib) (4.39.4)\n",
      "Requirement already satisfied: kiwisolver>=1.0.1 in /usr/local/lib/python3.10/dist-packages (from matplotlib) (1.4.4)\n",
      "Requirement already satisfied: pyparsing>=2.3.1 in /usr/lib/python3/dist-packages (from matplotlib) (2.4.7)\n",
      "Requirement already satisfied: python-dateutil>=2.7 in /usr/local/lib/python3.10/dist-packages (from matplotlib) (2.8.2)\n",
      "Requirement already satisfied: ml-dtypes>=0.1.0 in /usr/local/lib/python3.10/dist-packages (from jax) (0.1.0)\n",
      "Requirement already satisfied: msgpack in /usr/local/lib/python3.10/dist-packages (from flax) (1.0.5)\n",
      "Requirement already satisfied: optax in /usr/local/lib/python3.10/dist-packages (from flax) (0.1.5)\n",
      "Requirement already satisfied: tensorstore in /usr/local/lib/python3.10/dist-packages (from flax) (0.1.36)\n",
      "Requirement already satisfied: rich>=11.1 in /usr/local/lib/python3.10/dist-packages (from flax) (13.3.5)\n",
      "Requirement already satisfied: PyYAML>=5.4.1 in /usr/local/lib/python3.10/dist-packages (from flax) (6.0)\n",
      "Requirement already satisfied: importlib_resources>=5.9.0 in /usr/local/lib/python3.10/dist-packages (from tensorflowjs) (5.12.0)\n",
      "Collecting tensorflow\n",
      "  Downloading tensorflow-2.12.0-cp310-cp310-manylinux_2_17_x86_64.manylinux2014_x86_64.whl (585.9 MB)\n",
      "\u001b[2K     \u001b[90m━━━━━━━━━━━━━━━━━━━━━━━━━━━━━━━━━━━━━━\u001b[0m \u001b[32m585.9/585.9 MB\u001b[0m \u001b[31m37.9 MB/s\u001b[0m eta \u001b[36m0:00:00\u001b[0m00:01\u001b[0m00:01\u001b[0m\n",
      "\u001b[?25hCollecting tensorflow-decision-forests>=1.3.0 (from tensorflowjs)\n",
      "  Downloading tensorflow_decision_forests-1.3.0-cp310-cp310-manylinux_2_17_x86_64.manylinux2014_x86_64.whl (16.4 MB)\n",
      "\u001b[2K     \u001b[90m━━━━━━━━━━━━━━━━━━━━━━━━━━━━━━━━━━━━━━━━\u001b[0m \u001b[32m16.4/16.4 MB\u001b[0m \u001b[31m45.1 MB/s\u001b[0m eta \u001b[36m0:00:00\u001b[0ma \u001b[36m0:00:01\u001b[0m\n",
      "\u001b[?25hCollecting tensorflow_hub\n",
      "  Downloading tensorflow_hub-0.13.0-py2.py3-none-any.whl (100 kB)\n",
      "\u001b[2K     \u001b[90m━━━━━━━━━━━━━━━━━━━━━━━━━━━━━━━━━━━━━\u001b[0m \u001b[32m100.6/100.6 kB\u001b[0m \u001b[31m103.8 MB/s\u001b[0m eta \u001b[36m0:00:00\u001b[0m\n",
      "\u001b[?25hCollecting keras<2.13,>=2.12.0 (from tensorflow)\n",
      "  Downloading keras-2.12.0-py2.py3-none-any.whl (1.7 MB)\n",
      "\u001b[2K     \u001b[90m━━━━━━━━━━━━━━━━━━━━━━━━━━━━━━━━━━━━━━━━\u001b[0m \u001b[32m1.7/1.7 MB\u001b[0m \u001b[31m45.7 MB/s\u001b[0m eta \u001b[36m0:00:00\u001b[0ma \u001b[36m0:00:01\u001b[0m\n",
      "\u001b[?25hCollecting protobuf!=4.21.0,!=4.21.1,!=4.21.2,!=4.21.3,!=4.21.4,!=4.21.5,<5.0.0dev,>=3.20.3 (from tensorflow)\n",
      "  Downloading protobuf-4.23.2-cp37-abi3-manylinux2014_x86_64.whl (304 kB)\n",
      "\u001b[2K     \u001b[90m━━━━━━━━━━━━━━━━━━━━━━━━━━━━━━━━━━━━━━\u001b[0m \u001b[32m304.5/304.5 kB\u001b[0m \u001b[31m62.0 MB/s\u001b[0m eta \u001b[36m0:00:00\u001b[0m\n",
      "\u001b[?25hCollecting tensorboard<2.13,>=2.12 (from tensorflow)\n",
      "  Downloading tensorboard-2.12.3-py3-none-any.whl (5.6 MB)\n",
      "\u001b[2K     \u001b[90m━━━━━━━━━━━━━━━━━━━━━━━━━━━━━━━━━━━━━━━━\u001b[0m \u001b[32m5.6/5.6 MB\u001b[0m \u001b[31m43.8 MB/s\u001b[0m eta \u001b[36m0:00:00\u001b[0ma \u001b[36m0:00:01\u001b[0m\n",
      "\u001b[?25hCollecting tensorflow-estimator<2.13,>=2.12.0 (from tensorflow)\n",
      "  Downloading tensorflow_estimator-2.12.0-py2.py3-none-any.whl (440 kB)\n",
      "\u001b[2K     \u001b[90m━━━━━━━━━━━━━━━━━━━━━━━━━━━━━━━━━━━━━━\u001b[0m \u001b[32m440.7/440.7 kB\u001b[0m \u001b[31m82.7 MB/s\u001b[0m eta \u001b[36m0:00:00\u001b[0m\n",
      "\u001b[?25hRequirement already satisfied: wheel<1.0,>=0.23.0 in /usr/lib/python3/dist-packages (from astunparse>=1.6.0->tensorflow) (0.37.1)\n",
      "Requirement already satisfied: markdown-it-py<3.0.0,>=2.2.0 in /usr/local/lib/python3.10/dist-packages (from rich>=11.1->flax) (2.2.0)\n",
      "Requirement already satisfied: pygments<3.0.0,>=2.13.0 in /usr/local/lib/python3.10/dist-packages (from rich>=11.1->flax) (2.15.1)\n",
      "Requirement already satisfied: google-auth<3,>=1.6.3 in /usr/local/lib/python3.10/dist-packages (from tensorboard<2.13,>=2.12->tensorflow) (2.18.1)\n",
      "Collecting google-auth-oauthlib<1.1,>=0.5 (from tensorboard<2.13,>=2.12->tensorflow)\n",
      "  Downloading google_auth_oauthlib-1.0.0-py2.py3-none-any.whl (18 kB)\n",
      "Requirement already satisfied: markdown>=2.6.8 in /usr/lib/python3/dist-packages (from tensorboard<2.13,>=2.12->tensorflow) (3.3.6)\n",
      "Requirement already satisfied: requests<3,>=2.21.0 in /usr/local/lib/python3.10/dist-packages (from tensorboard<2.13,>=2.12->tensorflow) (2.30.0)\n",
      "Collecting tensorboard-data-server<0.8.0,>=0.7.0 (from tensorboard<2.13,>=2.12->tensorflow)\n",
      "  Downloading tensorboard_data_server-0.7.0-py3-none-manylinux2014_x86_64.whl (6.6 MB)\n",
      "\u001b[2K     \u001b[90m━━━━━━━━━━━━━━━━━━━━━━━━━━━━━━━━━━━━━━━━\u001b[0m \u001b[32m6.6/6.6 MB\u001b[0m \u001b[31m43.3 MB/s\u001b[0m eta \u001b[36m0:00:00\u001b[0ma \u001b[36m0:00:01\u001b[0m\n",
      "\u001b[?25hRequirement already satisfied: werkzeug>=1.0.1 in /usr/local/lib/python3.10/dist-packages (from tensorboard<2.13,>=2.12->tensorflow) (2.3.4)\n",
      "Requirement already satisfied: pandas in /usr/local/lib/python3.10/dist-packages (from tensorflow-decision-forests>=1.3.0->tensorflowjs) (2.0.1)\n",
      "Requirement already satisfied: wurlitzer in /usr/local/lib/python3.10/dist-packages (from tensorflow-decision-forests>=1.3.0->tensorflowjs) (3.0.3)\n",
      "Requirement already satisfied: chex>=0.1.5 in /usr/local/lib/python3.10/dist-packages (from optax->flax) (0.1.7)\n",
      "Requirement already satisfied: jaxlib>=0.1.37 in /usr/local/lib/python3.10/dist-packages (from optax->flax) (0.4.10)\n",
      "Requirement already satisfied: dm-tree>=0.1.5 in /usr/local/lib/python3.10/dist-packages (from chex>=0.1.5->optax->flax) (0.1.8)\n",
      "Requirement already satisfied: toolz>=0.9.0 in /usr/local/lib/python3.10/dist-packages (from chex>=0.1.5->optax->flax) (0.12.0)\n",
      "Requirement already satisfied: cachetools<6.0,>=2.0.0 in /usr/local/lib/python3.10/dist-packages (from google-auth<3,>=1.6.3->tensorboard<2.13,>=2.12->tensorflow) (5.3.0)\n",
      "Requirement already satisfied: pyasn1-modules>=0.2.1 in /usr/local/lib/python3.10/dist-packages (from google-auth<3,>=1.6.3->tensorboard<2.13,>=2.12->tensorflow) (0.3.0)\n",
      "Requirement already satisfied: urllib3<2.0 in /usr/local/lib/python3.10/dist-packages (from google-auth<3,>=1.6.3->tensorboard<2.13,>=2.12->tensorflow) (1.26.15)\n",
      "Requirement already satisfied: rsa<5,>=3.1.4 in /usr/local/lib/python3.10/dist-packages (from google-auth<3,>=1.6.3->tensorboard<2.13,>=2.12->tensorflow) (4.9)\n",
      "Requirement already satisfied: requests-oauthlib>=0.7.0 in /usr/local/lib/python3.10/dist-packages (from google-auth-oauthlib<1.1,>=0.5->tensorboard<2.13,>=2.12->tensorflow) (1.3.1)\n",
      "Requirement already satisfied: mdurl~=0.1 in /usr/local/lib/python3.10/dist-packages (from markdown-it-py<3.0.0,>=2.2.0->rich>=11.1->flax) (0.1.2)\n",
      "Requirement already satisfied: charset-normalizer<4,>=2 in /usr/local/lib/python3.10/dist-packages (from requests<3,>=2.21.0->tensorboard<2.13,>=2.12->tensorflow) (3.1.0)\n",
      "Requirement already satisfied: idna<4,>=2.5 in /usr/local/lib/python3.10/dist-packages (from requests<3,>=2.21.0->tensorboard<2.13,>=2.12->tensorflow) (3.4)\n",
      "Requirement already satisfied: certifi>=2017.4.17 in /usr/local/lib/python3.10/dist-packages (from requests<3,>=2.21.0->tensorboard<2.13,>=2.12->tensorflow) (2023.5.7)\n",
      "Requirement already satisfied: MarkupSafe>=2.1.1 in /usr/local/lib/python3.10/dist-packages (from werkzeug>=1.0.1->tensorboard<2.13,>=2.12->tensorflow) (2.1.2)\n",
      "Requirement already satisfied: pytz>=2020.1 in /usr/local/lib/python3.10/dist-packages (from pandas->tensorflow-decision-forests>=1.3.0->tensorflowjs) (2023.3)\n",
      "Requirement already satisfied: tzdata>=2022.1 in /usr/local/lib/python3.10/dist-packages (from pandas->tensorflow-decision-forests>=1.3.0->tensorflowjs) (2023.3)\n",
      "Requirement already satisfied: pyasn1<0.6.0,>=0.4.6 in /usr/local/lib/python3.10/dist-packages (from pyasn1-modules>=0.2.1->google-auth<3,>=1.6.3->tensorboard<2.13,>=2.12->tensorflow) (0.5.0)\n",
      "Requirement already satisfied: oauthlib>=3.0.0 in /usr/lib/python3/dist-packages (from requests-oauthlib>=0.7.0->google-auth-oauthlib<1.1,>=0.5->tensorboard<2.13,>=2.12->tensorflow) (3.2.0)\n",
      "Installing collected packages: tensorflow-estimator, tensorboard-data-server, protobuf, keras, tensorflow_hub, google-auth-oauthlib, tensorboard, tensorflow, tensorflow-decision-forests, tensorflowjs\n",
      "  Attempting uninstall: tensorflow-estimator\n",
      "    Found existing installation: tensorflow-estimator 2.11.0\n",
      "    Uninstalling tensorflow-estimator-2.11.0:\n",
      "      Successfully uninstalled tensorflow-estimator-2.11.0\n",
      "  Attempting uninstall: tensorboard-data-server\n",
      "    Found existing installation: tensorboard-data-server 0.6.1\n",
      "    Uninstalling tensorboard-data-server-0.6.1:\n",
      "      Successfully uninstalled tensorboard-data-server-0.6.1\n",
      "  Attempting uninstall: protobuf\n",
      "    Found existing installation: protobuf 3.19.6\n",
      "    Uninstalling protobuf-3.19.6:\n",
      "      Successfully uninstalled protobuf-3.19.6\n",
      "  Attempting uninstall: keras\n",
      "    Found existing installation: keras 2.11.0\n",
      "    Uninstalling keras-2.11.0:\n",
      "      Successfully uninstalled keras-2.11.0\n",
      "  Attempting uninstall: tensorflow_hub\n",
      "    Found existing installation: tensorflow-hub 0.12.0\n",
      "    Uninstalling tensorflow-hub-0.12.0:\n",
      "      Successfully uninstalled tensorflow-hub-0.12.0\n",
      "  Attempting uninstall: google-auth-oauthlib\n",
      "    Found existing installation: google-auth-oauthlib 0.4.6\n",
      "    Uninstalling google-auth-oauthlib-0.4.6:\n",
      "      Successfully uninstalled google-auth-oauthlib-0.4.6\n",
      "  Attempting uninstall: tensorboard\n",
      "    Found existing installation: tensorboard 2.11.2\n",
      "    Uninstalling tensorboard-2.11.2:\n",
      "      Successfully uninstalled tensorboard-2.11.2\n",
      "  Attempting uninstall: tensorflow\n",
      "    Found existing installation: tensorflow 2.11.1\n",
      "    Uninstalling tensorflow-2.11.1:\n",
      "      Successfully uninstalled tensorflow-2.11.1\n",
      "  Attempting uninstall: tensorflow-decision-forests\n",
      "    Found existing installation: tensorflow-decision-forests 1.2.0\n",
      "    Uninstalling tensorflow-decision-forests-1.2.0:\n",
      "      Successfully uninstalled tensorflow-decision-forests-1.2.0\n",
      "Successfully installed google-auth-oauthlib-1.0.0 keras-2.12.0 protobuf-4.23.2 tensorboard-2.12.3 tensorboard-data-server-0.7.0 tensorflow-2.12.0 tensorflow-decision-forests-1.3.0 tensorflow-estimator-2.12.0 tensorflow_hub-0.13.0 tensorflowjs-4.6.0\n",
      "\u001b[33mWARNING: Running pip as the 'root' user can result in broken permissions and conflicting behaviour with the system package manager. It is recommended to use a virtual environment instead: https://pip.pypa.io/warnings/venv\u001b[0m\u001b[33m\n",
      "\u001b[K\u001b[?25h     \u001b[27m\u001b[90m.........\u001b[0m] \\ idealTree: \u001b[32;40mtiming\u001b[0m \u001b[35midealTree\u001b[0m Completed in 81ms\u001b[0m\u001b[K1ms\u001b[0m\u001b[K\n",
      "up to date, audited 120 packages in 562ms\n",
      "\n",
      "9 packages are looking for funding\n",
      "  run `npm fund` for details\n",
      "\n",
      "found \u001b[32m\u001b[1m0\u001b[22m\u001b[39m vulnerabilities\n"
     ]
    }
   ],
   "source": [
    "!pip uninstall tensorflowjs -y\n",
    "!pip install scikit-image numpy tensorflow tensorflow_hub matplotlib jax flax Pillow tensorflowjs\n",
    "# huggingface_hub pandas tensorflowjs\n",
    "!cd node && npm install && cd .."
   ]
  },
  {
   "cell_type": "code",
   "execution_count": 2,
   "id": "efd6243c-dcc7-4ac9-8cb0-57f712f00b6b",
   "metadata": {},
   "outputs": [
    {
     "name": "stdout",
     "output_type": "stream",
     "text": [
      "fatal: destination path 'cloned-code/maxim_tf' already exists and is not an empty directory.\n"
     ]
    }
   ],
   "source": [
    "# Copy the forked version, avoid any future conflicts\n",
    "!git clone https://github.com/thekevinscott/maxim-tf.git cloned-code/maxim_tf"
   ]
  },
  {
   "cell_type": "code",
   "execution_count": 3,
   "id": "ac7bb6f7-c21d-44e1-9495-eddcee015054",
   "metadata": {
    "tags": []
   },
   "outputs": [],
   "source": [
    "%load_ext autoreload\n",
    "%autoreload 2\n",
    "\n",
    "import pathlib\n",
    "import os\n",
    "import numpy as np"
   ]
  },
  {
   "cell_type": "markdown",
   "id": "5e9b5f37-64ad-4668-bd17-4d996f6a1abc",
   "metadata": {},
   "source": [
    "## Model Definitions & Constants\n",
    "\n",
    "[Here are all the MAXIM trained model checkpoints](https://github.com/google-research/maxim#results-and-pre-trained-models). We choose the models with the best performance (aside from Dehazing, for which we choose both indoor and outdoor, and Enhancement, for which we use both datasets).\n",
    "\n",
    "We also have model-specific images we'll use to run inference against."
   ]
  },
  {
   "cell_type": "code",
   "execution_count": 4,
   "id": "d3a449c1-de57-4a32-9078-5e76156a2188",
   "metadata": {
    "tags": []
   },
   "outputs": [],
   "source": [
    "models_and_images = [\n",
    "    # (Task, Dataset, Sample Image)\n",
    "    ('Dehazing', 'SOTS-Indoor', 'https://github.com/google-research/maxim/raw/main/maxim/images/Dehazing/input/1444_10.png'),\n",
    "    ('Dehazing', 'SOTS-Outdoor','https://github.com/google-research/maxim/raw/main/maxim/images/Dehazing/input/0003_0.8_0.2.png'),\n",
    "    ('Denoising', 'SIDD', 'https://github.com/google-research/maxim/raw/main/maxim/images/Denoising/input/0003_30.png'),\n",
    "    ('Deblurring', 'GoPro', 'https://github.com/google-research/maxim/raw/main/maxim/images/Deblurring/input/1fromGOPR0950.png'),\n",
    "    ('Deraining', 'Rain13k', 'https://github.com/google-research/maxim/raw/main/maxim/images/Deraining/input/15.png'),\n",
    "    ('Enhancement', 'LOL', 'https://github.com/google-research/maxim/raw/main/maxim/images/Enhancement/input/a4541-DSC_0040-2.png'),\n",
    "    ('Enhancement', 'FiveK', 'https://github.com/google-research/maxim/raw/main/maxim/images/Enhancement/input/a4541-DSC_0040-2.png'),\n",
    "]"
   ]
  },
  {
   "cell_type": "markdown",
   "id": "68b6fc60-00af-4d4d-9d01-e48dc1f2bc8f",
   "metadata": {},
   "source": [
    "And choose output folders:"
   ]
  },
  {
   "cell_type": "code",
   "execution_count": 5,
   "id": "3711a0da-172c-4871-b460-9ecb8abe7216",
   "metadata": {
    "tags": []
   },
   "outputs": [],
   "source": [
    "PYTHON_MODEL_OUTPUT_FOLDER = pathlib.Path('./models/tf/python')\n",
    "TFJS_MODEL_OUTPUT_FOLDER = pathlib.Path('./models/tf/tfjs')\n",
    "IMAGES_OUTPUT_FOLDER = pathlib.Path('./images')\n",
    "SHOULD_EVALUATE_MODELS = True # Whether we should evaluate the models after creating them\n",
    "QUANTIZATION_SETTINGS = 'uint8' # Set to '' for an uncompressed version. Can also choose float16 or uint16\n",
    "INPUT_RESOLUTION = 256 # If you want to specify a different input resolution from the base 256px"
   ]
  },
  {
   "cell_type": "markdown",
   "id": "e1c4e074-5f3d-4619-9da6-0d7cd296b2bd",
   "metadata": {},
   "source": [
    "## Create the Models"
   ]
  },
  {
   "cell_type": "code",
   "execution_count": null,
   "id": "54663b14-4c0b-4018-b06d-d174d99c1cec",
   "metadata": {
    "tags": []
   },
   "outputs": [],
   "source": [
    "import subprocess\n",
    "from PIL import Image\n",
    "from evaluate import evaluate_models\n",
    "\n",
    "for task, dataset, sample_image in models_and_images[:1]:\n",
    "    try:\n",
    "        q_folder = (QUANTIZATION_SETTINGS if QUANTIZATION_SETTINGS else 'uncompressed')\n",
    "        res_folder = (f'{INPUT_RESOLUTION}' if INPUT_RESOLUTION else 'none')\n",
    "        tfjs_output = TFJS_MODEL_OUTPUT_FOLDER / task / dataset / q_folder / res_folder\n",
    "        python_output = PYTHON_MODEL_OUTPUT_FOLDER / task / dataset / res_folder\n",
    "        cmd = [\n",
    "            'python3',\n",
    "            'create_tf_models.py',\n",
    "            '--task',\n",
    "            task,\n",
    "            '--dataset',\n",
    "            dataset,\n",
    "            '--python_output',\n",
    "            str(python_output),\n",
    "            '--tfjs_output',\n",
    "            str(tfjs_output),\n",
    "            *([\n",
    "                '--quantization_settings',\n",
    "                f'\"{QUANTIZATION_SETTINGS}\"',\n",
    "            ] if QUANTIZATION_SETTINGS else []),\n",
    "            ######\n",
    "            # optionally, set a different input resolution size.\n",
    "            # input resolution must be fixed. By default, it is 256.\n",
    "            # A smaller input resolution will result in smaller patches,\n",
    "            # longer inference time, but less UI blocking in the browser.\n",
    "            ######            \n",
    "            *([\n",
    "                '--input_resolution',\n",
    "                f'{INPUT_RESOLUTION}',\n",
    "            ] if INPUT_RESOLUTION else []),\n",
    "        ]\n",
    "        print(' '.join(cmd))\n",
    "        subprocess.run(cmd, cwd='./')\n",
    "        print(f'Created Python and Tensorflow.js models for task \"{task}\" and dataset \"{dataset}\"')\n",
    "        print(f'Evaluating Python and Tensorflow.js models for task \"{task}\" and dataset \"{dataset}\"')\n",
    "        evaluate_models(str(python_output), str(tfjs_output), sample_image, input_resolution=INPUT_RESOLUTION)\n",
    "\n",
    "    except Exception as e:\n",
    "        print(f'**** There was a problem with task {task} and dataset {dataset}')\n",
    "        print(e)\n",
    "        print('------------------------------------------------------------------------------------------')\n"
   ]
  },
  {
   "cell_type": "code",
   "execution_count": null,
   "id": "735a7724-32ef-4a43-a028-3be4ecb6a82f",
   "metadata": {},
   "outputs": [],
   "source": []
  }
 ],
 "metadata": {
  "kernelspec": {
   "display_name": "Python 3 (ipykernel)",
   "language": "python",
   "name": "python3"
  },
  "language_info": {
   "codemirror_mode": {
    "name": "ipython",
    "version": 3
   },
   "file_extension": ".py",
   "mimetype": "text/x-python",
   "name": "python",
   "nbconvert_exporter": "python",
   "pygments_lexer": "ipython3",
   "version": "3.10.6"
  }
 },
 "nbformat": 4,
 "nbformat_minor": 5
}
