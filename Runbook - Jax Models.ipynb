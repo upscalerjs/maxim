{
 "cells": [
  {
   "cell_type": "markdown",
   "id": "4c8f5e4f-e099-4c36-a15f-e01522ed5a91",
   "metadata": {},
   "source": [
    "# Runbook for converting [Maxim models](https://github.com/google-research/maxim) into Tensorflow.js-compatible models.\n",
    "\n",
    "This Notebook demonstrates how to convert Maxim models into Tensorflow.js equivalents. It aims to produce larger models with identical performance to the Python models.\n",
    "\n",
    "[This Notebook consumes the original Jax versions of the models](http://github.com/google-research/maxim/)."
   ]
  },
  {
   "cell_type": "markdown",
   "id": "ba4e47bf-7de3-454e-8450-24f400f184fb",
   "metadata": {},
   "source": [
    "Start by installing dependencies, and cloning the relevant repository."
   ]
  },
  {
   "cell_type": "code",
   "execution_count": null,
   "id": "1c5e74f4-4c9e-4143-8199-902f3802ec2f",
   "metadata": {
    "scrolled": true,
    "tags": []
   },
   "outputs": [],
   "source": [
    "!pip install scikit-image numpy tensorflow tensorflow_hub matplotlib jax flax Pillow ml-collections \"tensorflowjs>=4.5.0\"\n",
    "!cd node && npm install && cd .."
   ]
  },
  {
   "cell_type": "code",
   "execution_count": 2,
   "id": "efd6243c-dcc7-4ac9-8cb0-57f712f00b6b",
   "metadata": {},
   "outputs": [
    {
     "name": "stdout",
     "output_type": "stream",
     "text": [
      "fatal: destination path 'cloned-code/maxim' already exists and is not an empty directory.\n",
      "fatal: destination path 'cloned-code/tfjs' already exists and is not an empty directory.\n"
     ]
    }
   ],
   "source": [
    "# Copy the forked version, avoid any future conflicts\n",
    "!git clone https://github.com/thekevinscott/maxim cloned-code/maxim"
   ]
  },
  {
   "cell_type": "code",
   "execution_count": 57,
   "id": "ac7bb6f7-c21d-44e1-9495-eddcee015054",
   "metadata": {
    "tags": []
   },
   "outputs": [
    {
     "name": "stdout",
     "output_type": "stream",
     "text": [
      "The autoreload extension is already loaded. To reload it, use:\n",
      "  %reload_ext autoreload\n"
     ]
    }
   ],
   "source": [
    "%load_ext autoreload\n",
    "%autoreload 2"
   ]
  },
  {
   "cell_type": "markdown",
   "id": "5e9b5f37-64ad-4668-bd17-4d996f6a1abc",
   "metadata": {},
   "source": [
    "## Model Definitions & Constants\n",
    "\n",
    "[Here are all the MAXIM trained model checkpoints](https://github.com/google-research/maxim#results-and-pre-trained-models). We choose the models with the best performance (aside from Dehazing, for which we choose both indoor and outdoor, and Enhancement, for which we use both datasets).\n",
    "\n",
    "We also have model-specific images we'll use to run inference against."
   ]
  },
  {
   "cell_type": "code",
   "execution_count": null,
   "id": "d3a449c1-de57-4a32-9078-5e76156a2188",
   "metadata": {
    "tags": []
   },
   "outputs": [],
   "source": [
    "models_and_images = [\n",
    "    # (Task, Dataset, Sample Image)\n",
    "    ('Dehazing', 'SOTS-Indoor', 'https://github.com/google-research/maxim/raw/main/maxim/images/Dehazing/input/1444_10.png'),\n",
    "    ('Dehazing', 'SOTS-Outdoor','https://github.com/google-research/maxim/raw/main/maxim/images/Dehazing/input/0003_0.8_0.2.png'),\n",
    "    ('Denoising', 'SIDD', 'https://github.com/google-research/maxim/raw/main/maxim/images/Denoising/input/0003_30.png'),\n",
    "    ('Deblurring', 'GoPro', 'https://github.com/google-research/maxim/raw/main/maxim/images/Deblurring/input/1fromGOPR0950.png'),\n",
    "    ('Deraining', 'Rain13k', 'https://github.com/google-research/maxim/raw/main/maxim/images/Deraining/input/15.png'),\n",
    "    ('Enhancement', 'LOL', 'https://github.com/google-research/maxim/raw/main/maxim/images/Enhancement/input/a4541-DSC_0040-2.png'),\n",
    "    ('Enhancement', 'FiveK', 'https://github.com/google-research/maxim/raw/main/maxim/images/Enhancement/input/a4541-DSC_0040-2.png'),\n",
    "]"
   ]
  },
  {
   "cell_type": "markdown",
   "id": "68b6fc60-00af-4d4d-9d01-e48dc1f2bc8f",
   "metadata": {},
   "source": [
    "And choose output folders:"
   ]
  },
  {
   "cell_type": "code",
   "execution_count": null,
   "id": "3711a0da-172c-4871-b460-9ecb8abe7216",
   "metadata": {
    "tags": []
   },
   "outputs": [],
   "source": [
    "import pathlib\n",
    "\n",
    "MODEL_OUTPUT_FOLDER = pathlib.Path('./models/jax')\n",
    "IMAGES_OUTPUT_FOLDER = pathlib.Path('./images')\n",
    "QUANTIZATION_SETTINGS = '' # Can choose float16 or uint16 or uint8\n",
    "INPUT_SIZE = None # Can specify a fixed input size, or accept dynamically sized images. If dynamic, the image must be divisible by 64 (due to the architecture of MAXIM)"
   ]
  },
  {
   "cell_type": "markdown",
   "id": "e1c4e074-5f3d-4619-9da6-0d7cd296b2bd",
   "metadata": {
    "tags": []
   },
   "source": [
    "## Create the Models\n",
    "\n",
    "You can alternatively run this from the command line with:\n",
    "\n",
    "```\n",
    "python3 create_jax_and_tf_models.py --task task --dataset dataset --output output_folder --tf_output tf_output --quantization_settings quantization_setting\n",
    "```"
   ]
  },
  {
   "cell_type": "code",
   "execution_count": null,
   "id": "54663b14-4c0b-4018-b06d-d174d99c1cec",
   "metadata": {
    "tags": []
   },
   "outputs": [
    {
     "name": "stdout",
     "output_type": "stream",
     "text": [
      "Prepare to get Python Jax model for task Enhancement and dataset LOL\n",
      "Prepare to create TFJS model for task Enhancement and dataset LOL\n"
     ]
    },
    {
     "name": "stderr",
     "output_type": "stream",
     "text": [
      "2023-05-17 00:59:17.333471: I tensorflow/core/common_runtime/executor.cc:1197] [/device:CPU:0] (DEBUG INFO) Executor start aborting (this does not indicate an error and you can ignore this message): INVALID_ARGUMENT: You must feed a value for placeholder tensor 'xs_0' with dtype float and shape [?,?,?,3]\n",
      "\t [[{{node xs_0}}]]\n",
      "2023-05-17 01:00:11.158522: I tensorflow/core/common_runtime/executor.cc:1197] [/device:CPU:0] (DEBUG INFO) Executor start aborting (this does not indicate an error and you can ignore this message): INVALID_ARGUMENT: You must feed a value for placeholder tensor 'serving_default_xs_0' with dtype float and shape [?,?,?,3]\n",
      "\t [[{{node serving_default_xs_0}}]]\n"
     ]
    },
    {
     "name": "stdout",
     "output_type": "stream",
     "text": [
      "INFO:tensorflow:Assets written to: /tmp/tmptqhni2_2/assets\n"
     ]
    },
    {
     "name": "stderr",
     "output_type": "stream",
     "text": [
      "2023-05-17 01:07:53.709770: I tensorflow/compiler/xla/stream_executor/cuda/cuda_gpu_executor.cc:996] successful NUMA node read from SysFS had negative value (-1), but there must be at least one NUMA node, so returning NUMA node zero. See more at https://github.com/torvalds/linux/blob/v6.0/Documentation/ABI/testing/sysfs-bus-pci#L344-L355\n",
      "2023-05-17 01:07:53.709948: I tensorflow/core/grappler/devices.cc:66] Number of eligible GPUs (core count >= 8, compute capability >= 0.0): 1\n",
      "2023-05-17 01:07:53.710063: I tensorflow/core/grappler/clusters/single_machine.cc:358] Starting new session\n",
      "2023-05-17 01:07:53.710401: I tensorflow/compiler/xla/stream_executor/cuda/cuda_gpu_executor.cc:996] successful NUMA node read from SysFS had negative value (-1), but there must be at least one NUMA node, so returning NUMA node zero. See more at https://github.com/torvalds/linux/blob/v6.0/Documentation/ABI/testing/sysfs-bus-pci#L344-L355\n",
      "2023-05-17 01:07:53.710556: I tensorflow/compiler/xla/stream_executor/cuda/cuda_gpu_executor.cc:996] successful NUMA node read from SysFS had negative value (-1), but there must be at least one NUMA node, so returning NUMA node zero. See more at https://github.com/torvalds/linux/blob/v6.0/Documentation/ABI/testing/sysfs-bus-pci#L344-L355\n",
      "2023-05-17 01:07:53.710695: I tensorflow/compiler/xla/stream_executor/cuda/cuda_gpu_executor.cc:996] successful NUMA node read from SysFS had negative value (-1), but there must be at least one NUMA node, so returning NUMA node zero. See more at https://github.com/torvalds/linux/blob/v6.0/Documentation/ABI/testing/sysfs-bus-pci#L344-L355\n",
      "2023-05-17 01:07:53.710877: I tensorflow/compiler/xla/stream_executor/cuda/cuda_gpu_executor.cc:996] successful NUMA node read from SysFS had negative value (-1), but there must be at least one NUMA node, so returning NUMA node zero. See more at https://github.com/torvalds/linux/blob/v6.0/Documentation/ABI/testing/sysfs-bus-pci#L344-L355\n",
      "2023-05-17 01:07:53.711018: I tensorflow/compiler/xla/stream_executor/cuda/cuda_gpu_executor.cc:996] successful NUMA node read from SysFS had negative value (-1), but there must be at least one NUMA node, so returning NUMA node zero. See more at https://github.com/torvalds/linux/blob/v6.0/Documentation/ABI/testing/sysfs-bus-pci#L344-L355\n",
      "2023-05-17 01:07:53.711118: I tensorflow/core/common_runtime/gpu/gpu_device.cc:1635] Created device /job:localhost/replica:0/task:0/device:GPU:0 with 22227 MB memory:  -> device: 0, name: NVIDIA GeForce RTX 3090 Ti, pci bus id: 0000:02:00.0, compute capability: 8.6\n"
     ]
    }
   ],
   "source": [
    "import subprocess\n",
    "from PIL import Image\n",
    "import tensorflow as tf\n",
    "from create_jax_and_tf_models import create_jax_and_tf_models\n",
    "from evaluate import evaluate_jax_models\n",
    "\n",
    "for task, dataset, sample_image in models_and_images[:]:\n",
    "    q_folder = (QUANTIZATION_SETTINGS if QUANTIZATION_SETTINGS else 'uncompressed')\n",
    "    input_size_folder = f'{INPUT_SIZE}' if INPUT_SIZE else 'none'\n",
    "\n",
    "    tfjs_output = MODEL_OUTPUT_FOLDER / task / dataset / 'tfjs' / q_folder / input_size_folder\n",
    "    checkpoint_path = f'gs://gresearch/maxim/ckpt/{task}/{dataset}/checkpoint.npz' # path to the checkpoint on google storage\n",
    "    print(f'Prepare to get Python Jax model for task {task} and dataset {dataset}')\n",
    "    jax_model, params = get_jax_model(task, checkpoint_path)\n",
    "    print(f'Prepare to create TFJS model for task {task} and dataset {dataset}')\n",
    "    create_jax_and_tf_models(\n",
    "        jax_model,\n",
    "        params,\n",
    "        tfjs_output_folder=str(tfjs_output), \n",
    "        quantization_settings=QUANTIZATION_SETTINGS,\n",
    "        input_size=INPUT_SIZE,\n",
    "    )\n",
    "    print(f'Saved TFJS model for task {task} and dataset {dataset} to folder: \"{tfjs_output}\"')\n",
    "\n",
    "    print(f'Evaluating Python and Tensorflow.js models for task \"{task}\" and dataset \"{dataset}\"')\n",
    "    evaluate_jax_models(jax_model, params, str(tfjs_output), sample_image, checkpoint_path)\n",
    "        \n",
    "    print('-' * 40)\n"
   ]
  },
  {
   "cell_type": "code",
   "execution_count": null,
   "id": "b4e02d5d-4623-485c-9364-18172c3046ed",
   "metadata": {
    "tags": []
   },
   "outputs": [],
   "source": [
    "records = []\n",
    "for size in [\n",
    "    64,\n",
    "    128,\n",
    "    256,\n",
    "    512,\n",
    "    768,\n",
    "]:\n",
    "    input_resolution = (size, size) if size else None\n",
    "    _1, _2, ssim = evaluate_jax_models(jax_model, params, str(tfjs_output), sample_image, input_resolution=input_resolution)\n",
    "    records.append((size, ssim))\n",
    "    \n",
    "records"
   ]
  },
  {
   "cell_type": "code",
   "execution_count": null,
   "id": "437c3b24-cbf2-408c-8abb-8e4592299d86",
   "metadata": {},
   "outputs": [],
   "source": []
  }
 ],
 "metadata": {
  "kernelspec": {
   "display_name": "Python 3 (ipykernel)",
   "language": "python",
   "name": "python3"
  },
  "language_info": {
   "codemirror_mode": {
    "name": "ipython",
    "version": 3
   },
   "file_extension": ".py",
   "mimetype": "text/x-python",
   "name": "python",
   "nbconvert_exporter": "python",
   "pygments_lexer": "ipython3",
   "version": "3.10.6"
  }
 },
 "nbformat": 4,
 "nbformat_minor": 5
}
